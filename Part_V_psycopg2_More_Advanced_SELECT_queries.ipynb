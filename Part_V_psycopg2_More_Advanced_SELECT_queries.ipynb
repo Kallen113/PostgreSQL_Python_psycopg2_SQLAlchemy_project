{
 "cells": [
  {
   "cell_type": "markdown",
   "metadata": {},
   "source": [
    "# Part V: Additional SELECT queries and SQL commands via psycopg2:\n",
    "\n",
    "# Overview:\n",
    "\n",
    "## The following code inserts additional rows of data into the companies table, and then performs several SELECT queries, using some more advanced methods, such as: 1.) boolean operators; 2.) aggregate methods such as COUNT, SUM, AVG and clauses that re-arrange aggregations, such as GROUP BY and ORDER BY."
   ]
  },
  {
   "cell_type": "markdown",
   "metadata": {},
   "source": [
    "# Insert additional rows of data into the companies table: currently, all data is for Redwood City companies, so let's insert some data for companies located in SF:"
   ]
  },
  {
   "cell_type": "code",
   "execution_count": 15,
   "metadata": {},
   "outputs": [],
   "source": [
    "#!/usr/bin/env python3\n",
    "# -*- coding: utf-8 -*-\n",
    "\"\"\"\n",
    "Created on Tue Oct  9 02:18:21 2018\n",
    "\n",
    "@author: kevinallen\n",
    "\"\"\"\n",
    "\n",
    "'''This code creates a new table called companies (deleting such a table if it currently exists),\n",
    "and then inserts data into the newly-created table. Note these are the column names and types of data\n",
    "for each columns \"company_name varchar,id serial PRIMARY KEY, n_employees (i.e., the # of employees) integer, location varchar\"'''\n",
    "\n",
    "import psycopg2\n",
    "\n",
    "connection = None\n",
    "#Initialises the database connection\n",
    "\n",
    "try:\n",
    "    \n",
    "    connection = psycopg2.connect(database=\"learning\", user=\"postgres\", password=\"five\", host=\"localhost\", port=\"5433\")\n",
    "    \n",
    "    cursor = connection.cursor()\n",
    "    #Connects Ptyhon to a cursor to be able to execute postgreSQL commands.\n",
    "    #Note: there are 2 sources for this table's data.\n",
    "    # 1.) For the Redowod City data, the source is a 2016 Redwood City government report on the largest companies located in Redwood city:\n",
    "    #URL: <https://www.redwoodcity.org/business/economic-indicators-dashboard/top-private-employers> \n",
    "    #2.) For the SF data, the source is the SFCED: <https://sfced.org/wp-content/uploads/2016/06/Largest-Employers-Jun-2016.pdf>\n",
    "    \n",
    "    cursor.execute(\"\"\"\n",
    "                   INSERT INTO companies VALUES ('Wells Fargo', 11, 8245,'San Francisco');\n",
    "                   INSERT INTO companies VALUES ('Salesforce', 12, 5870,'San Francisco');\n",
    "                   INSERT INTO companies VALUES ('Uber', 13, 1980,'San Francisco');\n",
    "                   INSERT INTO companies VALUES ('Yelp', 14, 1717,'San Francisco');\n",
    "                   INSERT INTO companies VALUES ('Google', 15, 1500,'San Francisco');\n",
    "                   \"\"\")\n",
    "    \n",
    "except psycopg2.DatabaseError:\n",
    "    #I.e., if an error happens when attempting to connect to the database, or an error from the SQL code implemented.\n",
    "    if connection:\n",
    "        connection.rollback()\n",
    "        #I.e., do NOT commit the changes on account of an error. \n",
    " \n",
    "\n",
    "connection.commit()\n",
    "#I.e., commits and saves the changes to the database, given there are no Database errors.\n",
    "\n",
    "\n",
    "\n",
    "connection.close()\n",
    "cursor.close()"
   ]
  },
  {
   "cell_type": "markdown",
   "metadata": {},
   "source": [
    "# Find the average number of employees per company for companies located within San Francisco:"
   ]
  },
  {
   "cell_type": "code",
   "execution_count": 27,
   "metadata": {},
   "outputs": [
    {
     "name": "stdout",
     "output_type": "stream",
     "text": [
      "(Decimal('3862.4000000000000000'),)\n"
     ]
    }
   ],
   "source": [
    "import psycopg2\n",
    "\n",
    "connection = None\n",
    "#Initialises the database connection\n",
    "\n",
    "try:\n",
    "    \n",
    "    connection = psycopg2.connect(database=\"learning\", user=\"postgres\", password=\"five\", host=\"localhost\", port=\"5433\")\n",
    "    \n",
    "    cursor = connection.cursor()\n",
    "    #Connects Ptyhon to a cursor to be able to execute postgreSQL commands.\n",
    "    #Note: the source of this data is a 2016 Redwood City government report on the largest companies located in Redwood city\n",
    "    \n",
    "    cursor.execute(\"\"\" SELECT AVG(n_employees) FROM companies WHERE location='San Francisco';\n",
    "                   --Returns the average # of employees for the companies located in SF;\n",
    "                   \"\"\")\n",
    "    \n",
    "    results = cursor.fetchall()\n",
    "    for res in results:\n",
    "        print(res)\n",
    "\n",
    "except psycopg2.DatabaseError:\n",
    "    #I.e., if an error happens when attempting to connect to the database, or an error from the SQL code implemented.\n",
    "    if connection:\n",
    "        connection.rollback()\n",
    "        #I.e., do NOT commit the changes on account of an error. \n",
    " \n",
    "\n",
    "connection.commit()\n",
    "#I.e., commits and saves the changes to the database, given there are no Database errors.\n",
    "\n",
    "\n",
    "\n",
    "connection.close()\n",
    "cursor.close()"
   ]
  },
  {
   "cell_type": "markdown",
   "metadata": {},
   "source": [
    "### On average, there are ~3,862 employees per company in San Francisco."
   ]
  },
  {
   "cell_type": "markdown",
   "metadata": {},
   "source": [
    "# Select companies whose names either start with 'S' or whose names end with 'e':\n",
    "\n",
    "##  I.e., use 2 SELECT...WHERE...LIKE commands with an OR boolean operator:"
   ]
  },
  {
   "cell_type": "code",
   "execution_count": 32,
   "metadata": {},
   "outputs": [
    {
     "name": "stdout",
     "output_type": "stream",
     "text": [
      "('Oracle', 1, 6781, 'Redwood City')\n",
      "('Stanford Hospital', 2, 750, 'Redwood City')\n",
      "('Zazzle', 3, 190, 'Redwood City')\n",
      "('SUMO LOGIC', 4, 234, 'Redwood City')\n",
      "('Shuttterfly', 9, 481, 'Redwood City')\n",
      "('Starvista', 10, 330, 'Redwood City')\n",
      "('Salesforce', 12, 5870, 'San Francisco')\n",
      "('Google', 15, 1500, 'San Francisco')\n"
     ]
    }
   ],
   "source": [
    "import psycopg2\n",
    "\n",
    "connection = None\n",
    "#Initialises the database connection\n",
    "\n",
    "try:\n",
    "    \n",
    "    connection = psycopg2.connect(database=\"learning\", user=\"postgres\", password=\"five\", host=\"localhost\", port=\"5433\")\n",
    "    \n",
    "    cursor = connection.cursor()\n",
    "    #Connects Ptyhon to a cursor to be able to execute postgreSQL commands.\n",
    "    #Note: the source of this data is a 2016 Redwood City government report on the largest companies located in Redwood city\n",
    "    \n",
    "    cursor.execute(\"\"\"SELECT * FROM companies WHERE company_name LIKE 'S%' OR company_name LIKE '%e';\n",
    "                   --Selects companies whose names start with the upper-case letter S;\n",
    "                   \"\"\")\n",
    "                   \n",
    "    results = cursor.fetchall()\n",
    "    for res in results:\n",
    "        print(res)\n",
    "\n",
    "except psycopg2.DatabaseError:\n",
    "    #I.e., if an error happens when attempting to connect to the database, or an error from the SQL code implemented.\n",
    "    if connection:\n",
    "        connection.rollback()\n",
    "        #I.e., do NOT commit the changes on account of an error. \n",
    " \n",
    "\n",
    "connection.commit()\n",
    "#I.e., commits and saves the changes to the database, given there are no Database errors.\n",
    "\n",
    "\n",
    "\n",
    "connection.close()\n",
    "cursor.close()"
   ]
  },
  {
   "cell_type": "markdown",
   "metadata": {},
   "source": [
    "There are several companies that fit 1 or both of these criteria. "
   ]
  },
  {
   "cell_type": "markdown",
   "metadata": {},
   "source": [
    "#  What is the total number of employees for companies that have more than 1,000 employees? Order the query results by company name.\n",
    "\n",
    "# I.e.: Do a SELECT query to perform a sum aggregate on companies that have >1000 employees; group the results by company name (i.e., do a GROUP BY and ORDER BY):\n"
   ]
  },
  {
   "cell_type": "code",
   "execution_count": 23,
   "metadata": {},
   "outputs": [
    {
     "name": "stdout",
     "output_type": "stream",
     "text": [
      "(2367, 'Electronic Arts')\n",
      "(1500, 'Google')\n",
      "(6781, 'Oracle')\n",
      "(5870, 'Salesforce')\n",
      "(1980, 'Uber')\n",
      "(8245, 'Wells Fargo')\n",
      "(1717, 'Yelp')\n"
     ]
    }
   ],
   "source": [
    "#!/usr/bin/env python3\n",
    "# -*- coding: utf-8 -*-\n",
    "\"\"\"\n",
    "Created on Mon Nov  5 21:08:51 2018\n",
    "\n",
    "@author: kevinallen\n",
    "\"\"\"\n",
    "\n",
    "'''This code runs several SELECT queries, including filtering using the WHERE clause, the WHERE...LIKE clause, and aggregate funcitons such as SUM and AVG'''\n",
    "\n",
    "import psycopg2\n",
    "\n",
    "connection = None\n",
    "#Initialises the database connection\n",
    "\n",
    "try:\n",
    "    \n",
    "    connection = psycopg2.connect(database=\"learning\", user=\"postgres\", password=\"five\", host=\"localhost\", port=\"5433\")\n",
    "    \n",
    "    cursor = connection.cursor()\n",
    "    #Connects Ptyhon to a cursor to be able to execute postgreSQL commands.\n",
    "    #Note: the source of this data is a 2016 Redwood City government report on the largest companies located in Redwood city\n",
    "    \n",
    "    cursor.execute(\"\"\"SELECT SUM(n_employees), company_name FROM companies GROUP BY company_name HAVING SUM(n_employees)>1000 ORDER BY company_name;\n",
    "                   --Returns the sum of the number of employees and the company name for companies that have more than 1000 employees;           \n",
    "    \"\"\")\n",
    "    \n",
    "    results = cursor.fetchall()\n",
    "    for res in results:\n",
    "        print(res)\n",
    "\n",
    "except psycopg2.DatabaseError:\n",
    "    #I.e., if an error happens when attempting to connect to the database, or an error from the SQL code implemented.\n",
    "    if connection:\n",
    "        connection.rollback()\n",
    "        #I.e., do NOT commit the changes on account of an error. \n",
    " \n",
    "\n",
    "connection.commit()\n",
    "#I.e., commits and saves the changes to the database, given there are no Database errors.\n",
    "\n",
    "\n",
    "\n",
    "connection.close()\n",
    "cursor.close()"
   ]
  },
  {
   "cell_type": "markdown",
   "metadata": {},
   "source": [
    "### Notice that Wells Fargo is the largest in the table. All others of these large companies are tech companies, however, such as Oracle and Salesforce."
   ]
  },
  {
   "cell_type": "markdown",
   "metadata": {},
   "source": [
    "# SELECT query: What are the total number of companies located in Redwood City saved in the companies table? Use COUNT() command:"
   ]
  },
  {
   "cell_type": "code",
   "execution_count": 7,
   "metadata": {},
   "outputs": [
    {
     "name": "stdout",
     "output_type": "stream",
     "text": [
      "(10,)\n"
     ]
    }
   ],
   "source": [
    "import psycopg2\n",
    "\n",
    "connection = None\n",
    "#Initialises the database connection\n",
    "\n",
    "try:\n",
    "    \n",
    "    connection = psycopg2.connect(database=\"learning\", user=\"postgres\", password=\"five\", host=\"localhost\", port=\"5433\")\n",
    "    \n",
    "    cursor = connection.cursor()\n",
    "    #Connects Ptyhon to a cursor to be able to execute postgreSQL commands.\n",
    "    #Note: the source of this data is a 2016 Redwood City government report on the largest companies located in Redwood city\n",
    "    \n",
    "    cursor.execute(\"\"\"SELECT COUNT(n_employees) FROM companies WHERE location = 'Redwood City';\n",
    "                   --Returns the number of companies (i.e., from the table) that are located within Redwood City;                   --Returns the sum of the number of employees and the company name for companies that have more than 1000 employees;           \n",
    "    \"\"\")\n",
    "    \n",
    "    results = cursor.fetchall()\n",
    "    for res in results:\n",
    "        print(res)\n",
    "\n",
    "except psycopg2.DatabaseError:\n",
    "    #I.e., if an error happens when attempting to connect to the database, or an error from the SQL code implemented.\n",
    "    if connection:\n",
    "        connection.rollback()\n",
    "        #I.e., do NOT commit the changes on account of an error. \n",
    " \n",
    "\n",
    "connection.commit()\n",
    "#I.e., commits and saves the changes to the database, given there are no Database errors.\n",
    "\n",
    "\n",
    "\n",
    "connection.close()\n",
    "cursor.close()"
   ]
  },
  {
   "cell_type": "markdown",
   "metadata": {},
   "source": [
    "### There are 10 companies from the table that are located within Redwood City. "
   ]
  },
  {
   "cell_type": "markdown",
   "metadata": {},
   "source": [
    "# Query on all companies in the table whose number of employees ranges from 500 to 2,200. Return the company name and number of employees:"
   ]
  },
  {
   "cell_type": "code",
   "execution_count": 24,
   "metadata": {},
   "outputs": [
    {
     "name": "stdout",
     "output_type": "stream",
     "text": [
      "('Stanford Hospital', 750)\n",
      "('Kaiser Foundation', 773)\n",
      "('Uber', 1980)\n",
      "('Yelp', 1717)\n",
      "('Google', 1500)\n"
     ]
    }
   ],
   "source": [
    "import psycopg2\n",
    "\n",
    "connection = None\n",
    "#Initialises the database connection\n",
    "\n",
    "try:\n",
    "    \n",
    "    connection = psycopg2.connect(database=\"learning\", user=\"postgres\", password=\"five\", host=\"localhost\", port=\"5433\")\n",
    "    \n",
    "    cursor = connection.cursor()\n",
    "    #Connects Ptyhon to a cursor to be able to execute postgreSQL commands.\n",
    "    #Note: the source of this data is a 2016 Redwood City government report on the largest companies located in Redwood city\n",
    "    \n",
    "    cursor.execute(\"\"\"SELECT company_name, n_employees FROM companies WHERE n_employees BETWEEN 500 AND 2200;\n",
    "                   --Selects data for companies whose number of employees range from 500 to 2200; \"\"\")\n",
    "    \n",
    "    results = cursor.fetchall()\n",
    "    for res in results:\n",
    "        print(res)\n",
    "\n",
    "except psycopg2.DatabaseError:\n",
    "    #I.e., if an error happens when attempting to connect to the database, or an error from the SQL code implemented.\n",
    "    if connection:\n",
    "        connection.rollback()\n",
    "        #I.e., do NOT commit the changes on account of an error. \n",
    " \n",
    "\n",
    "connection.commit()\n",
    "#I.e., commits and saves the changes to the database, given there are no Database errors.\n",
    "\n",
    "\n",
    "\n",
    "connection.close()\n",
    "cursor.close()"
   ]
  }
 ],
 "metadata": {
  "kernelspec": {
   "display_name": "Python 3",
   "language": "python",
   "name": "python3"
  },
  "language_info": {
   "codemirror_mode": {
    "name": "ipython",
    "version": 3
   },
   "file_extension": ".py",
   "mimetype": "text/x-python",
   "name": "python",
   "nbconvert_exporter": "python",
   "pygments_lexer": "ipython3",
   "version": "3.7.1"
  }
 },
 "nbformat": 4,
 "nbformat_minor": 2
}
