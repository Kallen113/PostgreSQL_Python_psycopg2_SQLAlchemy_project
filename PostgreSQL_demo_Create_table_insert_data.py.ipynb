{
 "cells": [
  {
   "cell_type": "markdown",
   "metadata": {},
   "source": [
    "# This code creates a new table (deleting if currently exists), and inserts data\n",
    "into the newly-created table. Note these are the column names and types of data\n",
    "for each columns \"company_name varchar,id serial PRIMARY KEY, n_employees (i.e., the # of employees) integer, location varchar"
   ]
  },
  {
   "cell_type": "code",
   "execution_count": 1,
   "metadata": {},
   "outputs": [
    {
     "name": "stderr",
     "output_type": "stream",
     "text": [
      "/Users/kevinallen/anaconda3/lib/python3.7/site-packages/psycopg2/__init__.py:144: UserWarning: The psycopg2 wheel package will be renamed from release 2.8; in order to keep installing from binary please use \"pip install psycopg2-binary\" instead. For details see: <http://initd.org/psycopg/docs/install.html#binary-install-from-pypi>.\n",
      "  \"\"\")\n"
     ]
    }
   ],
   "source": [
    "#import relevant modules\n",
    "import psycopg2"
   ]
  },
  {
   "cell_type": "code",
   "execution_count": 2,
   "metadata": {},
   "outputs": [],
   "source": [
    "#Initialize connection to database\n",
    "connection = None\n"
   ]
  },
  {
   "cell_type": "code",
   "execution_count": 3,
   "metadata": {},
   "outputs": [],
   "source": [
    "\"\"\"Establish the database connection, and Create a new table; then insert various rows of\n",
    "data into the database. Run exceptions if an error occurs when attempting to connect to the database. \n",
    "Finally, commit the changes to the database (i.e., save the changes), and close the database connection \n",
    "once all SQL code has been implemented (assuming no errors occur).\n",
    "\"\"\"\n",
    "\n",
    "try:\n",
    "    \n",
    "    connection = psycopg2.connect(database=\"learning\", user=\"postgres\", password=\"*******\", host=\"localhost\", port=\"5433\")\n",
    "    \n",
    "    cursor = connection.cursor()\n",
    "    #Connects Ptyhon to a cursor to be able to execute postgreSQL commands.\n",
    "    #Note: there are 2 sources for this table's data.\n",
    "    # 1.) For the Redowod City data, the source is a 2016 Redwood City government report on the largest companies located in Redwood city:\n",
    "    #URL: <https://www.redwoodcity.org/business/economic-indicators-dashboard/top-private-employers> \n",
    "    #2.) For the SF data, the source is the SFCED: <https://sfced.org/wp-content/uploads/2016/06/Largest-Employers-Jun-2016.pdf>\n",
    "    \n",
    "    cursor.execute(\"\"\"DROP TABLE IF EXISTS companies;\n",
    "                   CREATE TABLE IF NOT EXISTS companies(company_name varchar,id serial PRIMARY KEY, n_employees integer, location varchar);\n",
    "                   INSERT INTO companies VALUES ('Oracle', 1, 6781,'Redwood City');\n",
    "                   INSERT INTO companies VALUES ('Stanford Hospital', 2, 750,'Redwood City');\n",
    "                   INSERT INTO companies VALUES ('Zazzle', 3, 190,'Redwood City');\n",
    "                   INSERT INTO companies VALUES ('Sumo Logic', 4, 234,'Redwood City');\n",
    "                   INSERT INTO companies VALUES ('Kaiser Foundation', 5, 773,'Redwood City');\n",
    "                   INSERT INTO companies VALUES ('Rocket Fuel', 6, 312,'Redwood City');\n",
    "                   INSERT INTO companies VALUES ('Genomic Health', 7, 479,'Redwood City');\n",
    "                   INSERT INTO companies VALUES ('Electronic Arts', 8, 2367,'Redwood City');\n",
    "                   INSERT INTO companies VALUES ('Shuttterfly', 9, 481,'Redwood City');\n",
    "                   INSERT INTO companies VALUES ('Starvista', 10, 330,'Redwood City');\n",
    "                   INSERT INTO companies VALUES ('Wells Fargo', 11, 8245,'San Francisco');\n",
    "                   INSERT INTO companies VALUES ('Salesforce', 12, 5870,'San Francisco');\n",
    "                   INSERT INTO companies VALUES ('Uber', 13, 1980,'San Francisco);\n",
    "                   INSERT INTO companies VALUES ('Yelp', 14, 1717,'San Francisco');\n",
    "                   INSERT INTO companies VALUES ('Google', 15, 1500,'San Francisco');\n",
    "                   \"\"\")\n",
    "    #NOTE: use triple quotation marks to denote where the SQL commands will be specified: this way apostrophes and such will NOT break the code.\n",
    "    \n",
    "except psycopg2.DatabaseError:\n",
    "    #I.e., if an error happens when attempting to connect to the database, or an error from the SQL code implemented.\n",
    "    if connection:\n",
    "        connection.rollback()\n",
    "        #I.e., do NOT commit the changes on account of an error. \n",
    " \n",
    "\n",
    "connection.commit()\n",
    "#I.e., commits and saves the changes to the database, given there are no Database errors.\n",
    "\n",
    "\n",
    "\n",
    "connection.close()\n",
    "cursor.close()"
   ]
  },
  {
   "cell_type": "code",
   "execution_count": 4,
   "metadata": {},
   "outputs": [
    {
     "name": "stdout",
     "output_type": "stream",
     "text": [
      "('Stanford Hospital', 2, 750, 'Redwood City')\n",
      "('Zazzle', 3, 190, 'Redwood City')\n",
      "('SUMO LOGIC', 4, 234, 'Redwood City')\n",
      "('Rocket Fuel', 6, 312, 'Redwood City')\n",
      "('Genomic Health', 7, 479, 'Redwood City')\n",
      "('Shuttterfly', 9, 481, 'Redwood City')\n",
      "('Starvista', 10, 330, 'Redwood City')\n"
     ]
    }
   ],
   "source": [
    "'''Now, having created a new table with data inserted into it, run a SELECT query:'''\n",
    "\n",
    "connection = None\n",
    "#Initialises the database connection\n",
    "\n",
    "try:\n",
    "    \n",
    "    connection = psycopg2.connect(database=\"learning\", user=\"postgres\", password=\"*******\", host=\"localhost\", port=\"5433\")\n",
    "    \n",
    "    #Connects Ptyhon to a cursor to be able to execute postgreSQL commands.\n",
    "    cursor = connection.cursor()\n",
    "    \n",
    "    #implement SQL query to select companies for which the number of employees is less than or equal to 750\n",
    "    cursor.execute(\"\"\"\n",
    "                   SELECT * FROM companies WHERE n_employees<=750;\n",
    "                   --queries data for companies that have employment of 750 or fewer workers;\n",
    "    \"\"\")    \n",
    "    \n",
    "    #NOTE: use triple quotation marks to denote where the SQL commands will be specified: this way apostrophes and such will NOT break the code.\n",
    "    \n",
    "    results = cursor.fetchall()\n",
    "    for res in results:\n",
    "        '''I.e., iterate on the data queried while the database connection is open'''\n",
    "        print(res)\n",
    "        #Prints the results of the SQL query\n",
    "\n",
    "except psycopg2.DatabaseError:\n",
    "    #I.e., if an error happens when attempting to connect to the database, or an error from the SQL code implemented.\n",
    "    if connection:\n",
    "        connection.rollback()\n",
    "        #I.e., do NOT commit the changes on account of an error. \n",
    " \n",
    "\n",
    "connection.commit()\n",
    "#I.e., commits and saves the changes to the database, given there are no Database errors.\n",
    "\n",
    "connection.close()\n",
    "cursor.close()"
   ]
  }
 ],
 "metadata": {
  "kernelspec": {
   "display_name": "Python 3",
   "language": "python",
   "name": "python3"
  },
  "language_info": {
   "codemirror_mode": {
    "name": "ipython",
    "version": 3
   },
   "file_extension": ".py",
   "mimetype": "text/x-python",
   "name": "python",
   "nbconvert_exporter": "python",
   "pygments_lexer": "ipython3",
   "version": "3.7.1"
  }
 },
 "nbformat": 4,
 "nbformat_minor": 2
}
